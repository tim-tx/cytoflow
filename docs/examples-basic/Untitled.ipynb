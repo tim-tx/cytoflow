{
 "cells": [
  {
   "cell_type": "code",
   "execution_count": 1,
   "metadata": {},
   "outputs": [],
   "source": [
    "%matplotlib inline\n",
    "\n",
    "import cytoflow as flow"
   ]
  },
  {
   "cell_type": "code",
   "execution_count": 2,
   "metadata": {},
   "outputs": [],
   "source": [
    "path = '../../cytoflow/tests/data/instruments'\n",
    "files = {\n",
    "   'Accuri - C6.fcs' : {'channel' : 'FL1-A', 'scale' : 'log'}}\n",
    "#    'Applied Biosystems - Attune.fcs' : {'channel' : 'BL1-A', 'scale' : 'log'},\n",
    "#    'BD - FACS Aria II.fcs' : {'channel' : 'B515-A', 'scale' : 'log'},\n",
    "#    'Beckman Coulter - Cyan.fcs' : {'channel' : 'FL 2 Area', 'scale' : 'log'},\n",
    "#    'Beckman Coulter - Cytomics FC500.LMD' : {'channel' : 'CD3-FITC'},\n",
    "#    'Beckman Coulter - Gallios.LMD' : {'channel' : \"FL1 INT LIN\", 'scale' : 'logicle'},\n",
    "#    'Beckman Coulter - MoFlo Astrios - linear settings.fcs' : {'channel' : 'FL2-Height'},\n",
    "#    'Beckman Coulter - MoFlo Astrios - log settings.fcs' : {'channel' : 'FL2-Height', 'scale' : 'log'},\n",
    "#    'Beckman Coulter - MoFlo XDP.fcs' : {'channel' : 'FL1-Log_Area'},\n",
    "#    'Cytek DxP10.fcs' : {'channel' : 'L1 530-30', 'scale' : 'log'},\n",
    "# #          'Cytek xP5.fcs' : {'channel' : 'FL-1'},\n",
    "# #          'iCyt - Eclipse.lmd' : {'channel' : 'FL-1'},\n",
    "#    'Miltenyi Biotec - MACSQuant Analyzer.fcs' : {'channel' : 'cd8 FITC-A', 'scale' : 'log'},\n",
    "#    'Partec - PAS.FCS' : {'channel' : 'FL1'},\n",
    "#    'Stratedigm - S1400.fcs' : {'channel' : 'FL1 LinA', 'scale' : 'log'},\n",
    "#    'System II listmode with extra info in bits D10-D15.LMD' : {'channel' : 'CD41 FITC'}}"
   ]
  },
  {
   "cell_type": "code",
   "execution_count": 3,
   "metadata": {
    "scrolled": false
   },
   "outputs": [
    {
     "name": "stdout",
     "output_type": "stream",
     "text": [
      "Accuri - C6.fcs\n",
      "    FSC-A   SSC-A   FL1-A   FL2-A   FL3-A   FL4-A   FSC-H   SSC-H   FL1-H  \\\n",
      "0  350492  227176   23461   13948   13024   63543  660667  387030   26455   \n",
      "1  293376  238129    1090     536     930    1608  559458  399625    1087   \n",
      "2  346534  454604  269100  167735  156307  340308  604055  747823  290232   \n",
      "3  296363  221249   37510   22435   19356   94230  556808  368213   41406   \n",
      "4  296746  224718  306607  224090  330962  377141  561219  382072  339535   \n",
      "\n",
      "    FL2-H   FL3-H   FL4-H  Width  Time  \n",
      "0   15164   15722   71140     44   134  \n",
      "1     426    1028    1656     43   134  \n",
      "2  182633  171328  384398     44   134  \n",
      "3   25071   22213  110569     42   134  \n",
      "4  248893  365511  426123     43   134  \n"
     ]
    },
    {
     "data": {
      "image/png": "[encoded data removed]",
      "text/plain": [
       "<matplotlib.figure.Figure at 0x7f8473537e48>"
      ]
     },
     "metadata": {},
     "output_type": "display_data"
    }
   ],
   "source": [
    "for file, args in files.items():\n",
    "    print(file)\n",
    "    ex = flow.ImportOp(tubes = [flow.Tube(file = path + '/' + file)], data_set = 0).apply()\n",
    "    print(ex.data.head())\n",
    "    flow.HistogramView(**args).plot(ex)\n",
    "    "
   ]
  },
  {
   "cell_type": "code",
   "execution_count": 28,
   "metadata": {},
   "outputs": [
    {
     "data": {
      "text/plain": [
       "'/home/brian/src/cytoflow/docs/examples-basic'"
      ]
     },
     "execution_count": 28,
     "metadata": {},
     "output_type": "execute_result"
    }
   ],
   "source": [
    "import os\n",
    "os.getcwd()"
   ]
  },
  {
   "cell_type": "code",
   "execution_count": null,
   "metadata": {},
   "outputs": [],
   "source": []
  }
 ],
 "metadata": {
  "kernelspec": {
   "display_name": "Python 3",
   "language": "python",
   "name": "python3"
  },
  "language_info": {
   "codemirror_mode": {
    "name": "ipython",
    "version": 3
   },
   "file_extension": ".py",
   "mimetype": "text/x-python",
   "name": "python",
   "nbconvert_exporter": "python",
   "pygments_lexer": "ipython3",
   "version": "3.4.3"
  }
 },
 "nbformat": 4,
 "nbformat_minor": 2
}
